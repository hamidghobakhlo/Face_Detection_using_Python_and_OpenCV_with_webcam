{
 "cells": [
  {
   "cell_type": "markdown",
   "id": "5e3a7b18",
   "metadata": {},
   "source": [
    "Face Detection using Python and OpenCV with webcam\n"
   ]
  },
  {
   "cell_type": "code",
   "execution_count": 1,
   "id": "372f8141",
   "metadata": {},
   "outputs": [],
   "source": [
    "'''face_cascade = cv2.CascadeClassifier(cv2.data.haarcascades \n",
    "+ 'haarcascade_frontalface_default.xml'): \n",
    "Loads pre-trained Haar Cascade face detection \n",
    "model to identify faces in images.'''\n",
    "import cv2\n",
    "\n",
    "face_cascade = cv2.CascadeClassifier(cv2.data.haarcascades + 'haarcascade_frontalface_default.xml')"
   ]
  }
 ],
 "metadata": {
  "kernelspec": {
   "display_name": "murph_env",
   "language": "python",
   "name": "python3"
  },
  "language_info": {
   "codemirror_mode": {
    "name": "ipython",
    "version": 3
   },
   "file_extension": ".py",
   "mimetype": "text/x-python",
   "name": "python",
   "nbconvert_exporter": "python",
   "pygments_lexer": "ipython3",
   "version": "3.13.0"
  }
 },
 "nbformat": 4,
 "nbformat_minor": 5
}
