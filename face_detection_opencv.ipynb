{
 "cells": [
  {
   "cell_type": "markdown",
   "id": "5e3a7b18",
   "metadata": {},
   "source": [
    "### Face Detection using Python and OpenCV with webcam\n"
   ]
  },
  {
   "cell_type": "markdown",
   "id": "a02d1a9c",
   "metadata": {},
   "source": [
    "Step 1: Installing OpenCV Library"
   ]
  },
  {
   "cell_type": "code",
   "execution_count": 6,
   "id": "e64f6090",
   "metadata": {},
   "outputs": [
    {
     "name": "stdout",
     "output_type": "stream",
     "text": [
      "Requirement already satisfied: opencv-python in c:\\users\\hamid\\murph_env\\lib\\site-packages (4.11.0.86)\n",
      "Requirement already satisfied: numpy>=1.21.2 in c:\\users\\hamid\\murph_env\\lib\\site-packages (from opencv-python) (2.2.2)\n"
     ]
    },
    {
     "name": "stderr",
     "output_type": "stream",
     "text": [
      "\n",
      "[notice] A new release of pip is available: 24.2 -> 25.1.1\n",
      "[notice] To update, run: python.exe -m pip install --upgrade pip\n"
     ]
    }
   ],
   "source": [
    "!pip install opencv-python"
   ]
  },
  {
   "cell_type": "markdown",
   "id": "cb99e391",
   "metadata": {},
   "source": [
    "Step 2: Importing OpenCV and Haar Cascade Classifier\n"
   ]
  },
  {
   "cell_type": "markdown",
   "id": "43dcc0df",
   "metadata": {},
   "source": [
    "face_cascade = cv2.CascadeClassifier(cv2.data.haarcascades \n",
    "\\+ 'haarcascade_frontalface_default.xml'): \n",
    "Loads pre-trained Haar Cascade face detection \n",
    "model to identify faces in images."
   ]
  },
  {
   "cell_type": "code",
   "execution_count": null,
   "id": "372f8141",
   "metadata": {},
   "outputs": [],
   "source": [
    "import cv2\n",
    "\n",
    "face_cascade = cv2.CascadeClassifier(cv2.data.haarcascades + 'haarcascade_frontalface_default.xml')"
   ]
  },
  {
   "cell_type": "markdown",
   "id": "dc9c0fba",
   "metadata": {},
   "source": [
    "Step 3: Open Webcam and Check for Webcam Access\n"
   ]
  },
  {
   "cell_type": "code",
   "execution_count": 3,
   "id": "039d965f",
   "metadata": {},
   "outputs": [],
   "source": [
    "cap = cv2.VideoCapture(0) \n",
    "\n",
    "if not cap.isOpened():\n",
    "    print(\"Error: Could not open webcam.\")\n",
    "    exit()"
   ]
  },
  {
   "cell_type": "markdown",
   "id": "81a4a7f6",
   "metadata": {},
   "source": [
    "Step 4: Capture Frames, Convert to Grayscale and Detect Faces"
   ]
  },
  {
   "cell_type": "code",
   "execution_count": null,
   "id": "9e0caf4a",
   "metadata": {},
   "outputs": [],
   "source": [
    "while True:\n",
    "    ret, frame = cap.read()  \n",
    "    if not ret:\n",
    "        print(\"Error: Could not read frame.\")\n",
    "        break\n",
    "\n",
    "    gray = cv2.cvtColor(frame, cv2.COLOR_BGR2GRAY)  \n",
    "    faces = face_cascade.detectMultiScale(gray, scaleFactor=1.1, minNeighbors=5, minSize=(30, 30))  # Detect faces"
   ]
  },
  {
   "cell_type": "markdown",
   "id": "cdbd5d6b",
   "metadata": {},
   "source": [
    "Step 5: Draw Rectangles Around Detected Faces and Display the Frame\n"
   ]
  },
  {
   "cell_type": "code",
   "execution_count": 12,
   "id": "57af8c16",
   "metadata": {},
   "outputs": [],
   "source": [
    "for (x, y, w, h) in faces:\n",
    "        cv2.rectangle(frame, (x, y), (x + w, y + h), (0, 255, 0), 2) \n",
    "\n",
    "        cv2.imshow('Face Detection', frame)"
   ]
  },
  {
   "cell_type": "markdown",
   "id": "91aba119",
   "metadata": {},
   "source": [
    "Step 6: Exit the Program\n"
   ]
  },
  {
   "cell_type": "code",
   "execution_count": null,
   "id": "2d256959",
   "metadata": {},
   "outputs": [],
   "source": [
    "if cv2.waitKey(1) & 0xFF == ord('q'):\n",
    "        break"
   ]
  },
  {
   "cell_type": "markdown",
   "id": "88c92992",
   "metadata": {},
   "source": [
    "Step 7: Release the Webcam and Close All Windows"
   ]
  },
  {
   "cell_type": "code",
   "execution_count": null,
   "id": "7974e73a",
   "metadata": {},
   "outputs": [],
   "source": [
    "cap.release()\n",
    "cv2.destroyAllWindows()"
   ]
  },
  {
   "cell_type": "markdown",
   "id": "bd017c13",
   "metadata": {},
   "source": [
    "Full Code:"
   ]
  },
  {
   "cell_type": "code",
   "execution_count": null,
   "id": "06284298",
   "metadata": {},
   "outputs": [],
   "source": [
    "import cv2\n",
    "def main():\n",
    "\n",
    "    face_cascade = cv2.CascadeClassifier(cv2.data.haarcascades + 'haarcascade_frontalface_default.xml')\n",
    "    \n",
    "    cap = cv2.VideoCapture(0)\n",
    "    if not cap.isOpened():\n",
    "        print(\"Error: Could not open webcam.\")\n",
    "        return\n",
    "    \n",
    "    while True:\n",
    "        ret, frame = cap.read()\n",
    "        if not ret:\n",
    "            print(\"Error: Could not read frame.\")\n",
    "            break\n",
    "        \n",
    "        gray = cv2.cvtColor(frame, cv2.COLOR_BGR2GRAY)\n",
    "        \n",
    "        faces = face_cascade.detectMultiScale(gray, scaleFactor=1.1, minNeighbors=5, minSize=(30, 30))\n",
    "       \n",
    "        for (x, y, w, h) in faces:\n",
    "            cv2.rectangle(frame, (x, y), (x + w, y + h), (0, 255, 0), 2)\n",
    "        \n",
    "        cv2.imshow('Face Detection', frame)\n",
    "        \n",
    "        if cv2.waitKey(1) & 0xFF == ord('q'):\n",
    "            break\n",
    "    \n",
    "    cap.release()\n",
    "    cv2.destroyAllWindows()\n",
    "\n",
    "if __name__ == \"__main__\":\n",
    "    main()"
   ]
  }
 ],
 "metadata": {
  "kernelspec": {
   "display_name": "murph_env",
   "language": "python",
   "name": "python3"
  },
  "language_info": {
   "codemirror_mode": {
    "name": "ipython",
    "version": 3
   },
   "file_extension": ".py",
   "mimetype": "text/x-python",
   "name": "python",
   "nbconvert_exporter": "python",
   "pygments_lexer": "ipython3",
   "version": "3.13.0"
  }
 },
 "nbformat": 4,
 "nbformat_minor": 5
}
